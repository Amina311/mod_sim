{
 "cells": [
  {
   "cell_type": "code",
   "execution_count": 1,
   "metadata": {},
   "outputs": [],
   "source": [
    "import matplotlib.pyplot as plt\n",
    "import pandas as pd\n",
    "import numpy as np\n",
    "import random\n",
    "from copy import deepcopy"
   ]
  },
  {
   "cell_type": "code",
   "execution_count": 2,
   "metadata": {},
   "outputs": [],
   "source": [
    "FOREST_WIDTH = 100\n",
    "FOREST_LENGTH = 50\n",
    "\n",
    "EMPTY = 0\n",
    "PREY = 1\n",
    "PREDATOR = 2\n",
    "\n",
    "CELL_TYPES = [EMPTY, PREY, PREDATOR]\n",
    "\n",
    "NEIGHBOURING_PARAMETER_K = 1\n",
    "\n",
    "PROBABILITY_P1 = 0.5\n",
    "PROBABILITY_P2 = 0.5\n",
    "PROBABILITY_P3 = 0.5\n",
    "\n",
    "NUM_RUNS = 3"
   ]
  },
  {
   "cell_type": "code",
   "execution_count": 3,
   "metadata": {},
   "outputs": [],
   "source": [
    "def init_forest():\n",
    "    forest = []\n",
    "    for i in range(FOREST_LENGTH):\n",
    "        row = [1]*(FOREST_WIDTH - 20) + [2]*20\n",
    "        random.shuffle(row)\n",
    "        forest.append(row)\n",
    "    return forest"
   ]
  },
  {
   "cell_type": "code",
   "execution_count": 4,
   "metadata": {},
   "outputs": [],
   "source": [
    "def find_neighbours(arr, i_pos, j_pos):\n",
    "\n",
    "    neighbors = []\n",
    "\n",
    "    if i_pos == 0 or i_pos == len(arr) - 1 or j_pos == 0 or j_pos == len(arr[i_pos]) - 1:\n",
    "        # corners\n",
    "        new_neighbors = []\n",
    "        if i_pos != 0:\n",
    "            new_neighbors.append((arr[i_pos - 1][j_pos], (i_pos - 1,j_pos)))  # top neighbor\n",
    "        if j_pos != len(arr[i_pos]) - 1:\n",
    "            new_neighbors.append((arr[i_pos][j_pos + 1], (i_pos, j_pos + 1)))  # right neighbor\n",
    "        if i_pos != len(arr) - 1:\n",
    "            new_neighbors.append((arr[i_pos + 1][j_pos], (i_pos + 1,j_pos)))  # bottom neighbor\n",
    "        if j_pos != 0:\n",
    "            new_neighbors.append((arr[i_pos][j_pos - 1], (i_pos, j_pos - 1)))  # left neighbor\n",
    "\n",
    "    else:\n",
    "        # add neighbors\n",
    "        new_neighbors = [\n",
    "            (arr[i_pos - 1][j_pos], (i_pos - 1,j_pos)),  # top neighbor\n",
    "            (arr[i_pos][j_pos + 1], (i_pos,j_pos+1)),  # right neighbor\n",
    "            (arr[i_pos + 1][j_pos], (i_pos + 1,j_pos)),  # bottom neighbor\n",
    "            (arr[i_pos][j_pos - 1], (i_pos,j_pos-1))   # left neighbor\n",
    "        ]\n",
    "\n",
    "    return {\n",
    "        \"value\": (arr[i_pos][j_pos], (i_pos, j_pos)),\n",
    "        \"neighbors\": new_neighbors\n",
    "    }\n"
   ]
  },
  {
   "cell_type": "code",
   "execution_count": 5,
   "metadata": {},
   "outputs": [],
   "source": [
    "def get_random_neighbouring_cell(arr, i_pos, j_pos):\n",
    "    return random.choice(find_neighbours(arr, i_pos, j_pos)[\"neighbors\"])"
   ]
  },
  {
   "cell_type": "code",
   "execution_count": 6,
   "metadata": {},
   "outputs": [],
   "source": [
    "def update_forest_cell(forest, i_pos, j_pos):\n",
    "    updated_forest = deepcopy(forest)    \n",
    "    \n",
    "    if updated_forest[i_pos][j_pos] == EMPTY:\n",
    "        neighbouring_cell = get_random_neighbouring_cell(updated_forest, i_pos, j_pos)\n",
    "        if neighbouring_cell[0] == PREY:\n",
    "            if random.random() < PROBABILITY_P1:\n",
    "                updated_forest[i_pos][j_pos] = PREY\n",
    "                \n",
    "    elif updated_forest[i_pos][j_pos] == PREY:\n",
    "        neighbouring_cell = get_random_neighbouring_cell(updated_forest, i_pos, j_pos)\n",
    "        if neighbouring_cell[0] == PREDATOR:\n",
    "            if random.random() < PROBABILITY_P2:\n",
    "                updated_forest[i_pos][j_pos] = PREDATOR\n",
    "                \n",
    "    elif updated_forest[i_pos][j_pos] == PREDATOR:\n",
    "        if random.random() < PROBABILITY_P3:\n",
    "            updated_forest[i_pos][j_pos] = EMPTY\n",
    "    \n",
    "    return updated_forest"
   ]
  },
  {
   "cell_type": "code",
   "execution_count": 7,
   "metadata": {},
   "outputs": [],
   "source": [
    "def update_forest(forest):\n",
    "    updated_forest = deepcopy(forest)\n",
    "    for i in range(len(forest)):\n",
    "        for j in range(len(forest[0])):\n",
    "            updated_forest[i][j] = update_forest_cell(forest, i, j)[i][j]\n",
    "    return updated_forest"
   ]
  },
  {
   "cell_type": "code",
   "execution_count": 8,
   "metadata": {},
   "outputs": [],
   "source": [
    "def update_forest_runs(forest, runs):\n",
    "    updated_forest_after_runs = deepcopy(forest)\n",
    "    for run in range(runs):\n",
    "        updated_forest = update_forest(updated_forest_after_runs)\n",
    "        updated_forest_after_runs = deepcopy(updated_forest)\n",
    "        \n",
    "    return updated_forest_after_runs"
   ]
  },
  {
   "cell_type": "code",
   "execution_count": 9,
   "metadata": {},
   "outputs": [],
   "source": [
    "forest = np.array(init_forest())"
   ]
  },
  {
   "cell_type": "code",
   "execution_count": 10,
   "metadata": {},
   "outputs": [
    {
     "name": "stdout",
     "output_type": "stream",
     "text": [
      "{'value': (1, (1, 1)), 'neighbors': [(2, (0, 1)), (2, (1, 2)), (1, (2, 1)), (1, (1, 0))]}\n",
      "(2, (1, 2))\n"
     ]
    }
   ],
   "source": [
    "print(find_neighbours(forest, 1, 1))\n",
    "print(get_random_neighbouring_cell(forest, 1, 1))"
   ]
  },
  {
   "cell_type": "code",
   "execution_count": 11,
   "metadata": {},
   "outputs": [],
   "source": [
    "updated_forest = np.array(update_forest(forest))\n",
    "update_forest_after_runs = np.array(update_forest_runs(forest, NUM_RUNS))"
   ]
  },
  {
   "cell_type": "code",
   "execution_count": 12,
   "metadata": {
    "scrolled": true
   },
   "outputs": [
    {
     "data": {
      "text/plain": [
       "array([[1, 2, 1, ..., 1, 2, 2],\n",
       "       [1, 1, 2, ..., 1, 2, 1],\n",
       "       [1, 1, 2, ..., 2, 1, 1],\n",
       "       ...,\n",
       "       [1, 1, 1, ..., 1, 1, 2],\n",
       "       [1, 1, 1, ..., 1, 1, 2],\n",
       "       [1, 1, 1, ..., 1, 2, 1]])"
      ]
     },
     "execution_count": 12,
     "metadata": {},
     "output_type": "execute_result"
    }
   ],
   "source": [
    "forest"
   ]
  },
  {
   "cell_type": "code",
   "execution_count": 13,
   "metadata": {
    "scrolled": true
   },
   "outputs": [
    {
     "data": {
      "text/plain": [
       "array([[1, 2, 2, ..., 1, 2, 0],\n",
       "       [1, 1, 0, ..., 1, 0, 1],\n",
       "       [1, 1, 0, ..., 0, 2, 1],\n",
       "       ...,\n",
       "       [1, 1, 1, ..., 1, 1, 2],\n",
       "       [1, 1, 1, ..., 1, 1, 2],\n",
       "       [1, 1, 1, ..., 1, 0, 1]])"
      ]
     },
     "execution_count": 13,
     "metadata": {},
     "output_type": "execute_result"
    }
   ],
   "source": [
    "updated_forest"
   ]
  },
  {
   "cell_type": "code",
   "execution_count": 14,
   "metadata": {
    "scrolled": true
   },
   "outputs": [
    {
     "data": {
      "text/plain": [
       "array([[1, 0, 2, ..., 2, 0, 1],\n",
       "       [1, 0, 0, ..., 0, 0, 2],\n",
       "       [1, 1, 1, ..., 0, 0, 2],\n",
       "       ...,\n",
       "       [1, 1, 1, ..., 1, 2, 1],\n",
       "       [1, 1, 1, ..., 1, 0, 1],\n",
       "       [1, 1, 1, ..., 1, 0, 0]])"
      ]
     },
     "execution_count": 14,
     "metadata": {},
     "output_type": "execute_result"
    }
   ],
   "source": [
    "update_forest_after_runs"
   ]
  }
 ],
 "metadata": {
  "kernelspec": {
   "display_name": "Python 3",
   "language": "python",
   "name": "python3"
  },
  "language_info": {
   "codemirror_mode": {
    "name": "ipython",
    "version": 3
   },
   "file_extension": ".py",
   "mimetype": "text/x-python",
   "name": "python",
   "nbconvert_exporter": "python",
   "pygments_lexer": "ipython3",
   "version": "3.8.5"
  }
 },
 "nbformat": 4,
 "nbformat_minor": 4
}
