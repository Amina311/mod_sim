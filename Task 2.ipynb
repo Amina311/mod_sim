{
 "cells": [
  {
   "cell_type": "code",
   "execution_count": 1,
   "metadata": {},
   "outputs": [],
   "source": [
    "import matplotlib.pyplot as plt\n",
    "import pandas as pd\n",
    "import numpy as np\n",
    "import random\n",
    "from copy import deepcopy"
   ]
  },
  {
   "cell_type": "code",
   "execution_count": 2,
   "metadata": {},
   "outputs": [],
   "source": [
    "FOREST_WIDTH = 100\n",
    "FOREST_LENGTH = 50\n",
    "\n",
    "EMPTY = 0\n",
    "PREY = 1\n",
    "PREDATOR = -1\n",
    "\n",
    "CELL_TYPES = [EMPTY, PREY, PREDATOR]\n",
    "\n",
    "K = 1\n",
    "\n",
    "P1 = 0.5\n",
    "P2 = 0.5\n",
    "P3 = 0.5\n",
    "\n",
    "NUM_RUNS = 2"
   ]
  },
  {
   "cell_type": "code",
   "execution_count": 3,
   "metadata": {},
   "outputs": [],
   "source": [
    "def init_forest():\n",
    "    forest = []\n",
    "    for i in range(FOREST_WIDTH):\n",
    "        row = [PREY]*(FOREST_LENGTH - 20) + [PREDATOR]*20\n",
    "        random.shuffle(row)\n",
    "        forest.append(row)\n",
    "    return forest"
   ]
  },
  {
   "cell_type": "code",
   "execution_count": 4,
   "metadata": {},
   "outputs": [],
   "source": [
    "def find_neighbours(arr, row_number, column_number, k):\n",
    "    neighbours = set()\n",
    "    for i in range(row_number - 1 - k + 1, row_number + k + 1):\n",
    "        for j in range(column_number - 1 - k + 1, column_number + k + 1):\n",
    "            if i >= 0 and i < len(arr) and j >= 0 and j < len(arr[0]):\n",
    "                 neighbours.add((arr[i][j], (i, j)))\n",
    "    neighbours.remove((arr[row_number][column_number], (row_number, column_number)))\n",
    "    return neighbours"
   ]
  },
  {
   "cell_type": "code",
   "execution_count": 5,
   "metadata": {},
   "outputs": [],
   "source": [
    "def get_random_neighbouring_cell(arr, row_number, column_number, k):\n",
    "    return random.sample(find_neighbours(arr, row_number, column_number, k), 1)"
   ]
  },
  {
   "cell_type": "code",
   "execution_count": 6,
   "metadata": {},
   "outputs": [],
   "source": [
    "def update_forest_cell(forest, row_number, column_number, k, p1, p2, p3):\n",
    "    updated_forest = deepcopy(forest)    \n",
    "    \n",
    "    if updated_forest[row_number][column_number] == EMPTY:\n",
    "        neighbouring_cell = get_random_neighbouring_cell(updated_forest, row_number, column_number, k)\n",
    "        if neighbouring_cell[0] == PREY:\n",
    "            if random.random() < p1:\n",
    "                updated_forest[row_number][column_number] = PREY\n",
    "                \n",
    "    elif updated_forest[row_number][column_number] == PREY:\n",
    "        neighbouring_cell = get_random_neighbouring_cell(updated_forest, row_number, column_number, k)\n",
    "        if neighbouring_cell[0] == PREDATOR:\n",
    "            if random.random() < p2:\n",
    "                updated_forest[row_number][column_number] = PREDATOR\n",
    "                \n",
    "    elif updated_forest[row_number][column_number] == PREDATOR:\n",
    "        if random.random() < p3:\n",
    "            updated_forest[row_number][column_number] = EMPTY\n",
    "    \n",
    "    return updated_forest"
   ]
  },
  {
   "cell_type": "code",
   "execution_count": 7,
   "metadata": {},
   "outputs": [],
   "source": [
    "def update_forest(forest, k, p1, p2, p3):\n",
    "    updated_forest = deepcopy(forest)\n",
    "    for i in range(len(forest)):\n",
    "        for j in range(len(forest[0])):\n",
    "            updated_forest[i][j] = update_forest_cell(forest, i, j, k, p1, p2, p3)[i][j]\n",
    "    return updated_forest"
   ]
  },
  {
   "cell_type": "code",
   "execution_count": 8,
   "metadata": {},
   "outputs": [],
   "source": [
    "def update_forest_runs(forest, runs, k, p1, p2, p3):\n",
    "    updated_forest_after_runs = deepcopy(forest)\n",
    "    for run in range(runs):\n",
    "        updated_forest = update_forest(updated_forest_after_runs, k, p1, p2, p3)\n",
    "        updated_forest_after_runs = deepcopy(updated_forest)\n",
    "        \n",
    "    return updated_forest_after_runs"
   ]
  },
  {
   "cell_type": "code",
   "execution_count": 9,
   "metadata": {},
   "outputs": [],
   "source": [
    "forest = np.array(init_forest())"
   ]
  },
  {
   "cell_type": "code",
   "execution_count": 10,
   "metadata": {},
   "outputs": [
    {
     "name": "stdout",
     "output_type": "stream",
     "text": [
      "{(1, (0, 1)), (1, (1, 1)), (1, (1, 0))}\n",
      "[(1, (0, 1))]\n"
     ]
    }
   ],
   "source": [
    "print(find_neighbours(forest, 0, 0, 1))\n",
    "print(get_random_neighbouring_cell(forest, 0, 0, 2))"
   ]
  },
  {
   "cell_type": "code",
   "execution_count": 11,
   "metadata": {},
   "outputs": [],
   "source": [
    "updated_forest = np.array(update_forest(forest, K, P1, P2, P2))\n",
    "update_forest_after_runs = np.array(update_forest_runs(forest, NUM_RUNS, K, P1, P2, P3))"
   ]
  },
  {
   "cell_type": "code",
   "execution_count": 12,
   "metadata": {
    "scrolled": true
   },
   "outputs": [
    {
     "data": {
      "text/plain": [
       "array([[ 1,  1, -1, ...,  1,  1,  1],\n",
       "       [ 1,  1, -1, ..., -1,  1,  1],\n",
       "       [ 1,  1,  1, ...,  1,  1, -1],\n",
       "       ...,\n",
       "       [-1, -1,  1, ...,  1, -1,  1],\n",
       "       [-1, -1,  1, ..., -1,  1,  1],\n",
       "       [ 1, -1, -1, ...,  1,  1, -1]])"
      ]
     },
     "execution_count": 12,
     "metadata": {},
     "output_type": "execute_result"
    }
   ],
   "source": [
    "forest"
   ]
  },
  {
   "cell_type": "code",
   "execution_count": 13,
   "metadata": {
    "scrolled": true
   },
   "outputs": [
    {
     "data": {
      "text/plain": [
       "array([[ 1,  1,  0, ...,  1,  1,  1],\n",
       "       [ 1,  1, -1, ..., -1,  1,  1],\n",
       "       [ 1,  1,  1, ...,  1,  1, -1],\n",
       "       ...,\n",
       "       [ 0, -1,  1, ...,  1,  0,  1],\n",
       "       [-1,  0,  1, ...,  0,  1,  1],\n",
       "       [ 1,  0, -1, ...,  1,  1, -1]])"
      ]
     },
     "execution_count": 13,
     "metadata": {},
     "output_type": "execute_result"
    }
   ],
   "source": [
    "updated_forest"
   ]
  },
  {
   "cell_type": "code",
   "execution_count": 14,
   "metadata": {
    "scrolled": true
   },
   "outputs": [
    {
     "data": {
      "text/plain": [
       "array([[ 1,  1, -1, ...,  1,  1,  1],\n",
       "       [ 1,  1,  0, ...,  0,  1,  1],\n",
       "       [ 1,  1,  1, ...,  1,  1, -1],\n",
       "       ...,\n",
       "       [ 0,  0,  1, ...,  1, -1,  1],\n",
       "       [ 0,  0,  1, ...,  0,  1,  1],\n",
       "       [ 1,  0, -1, ...,  1,  1,  0]])"
      ]
     },
     "execution_count": 14,
     "metadata": {},
     "output_type": "execute_result"
    }
   ],
   "source": [
    "update_forest_after_runs"
   ]
  }
 ],
 "metadata": {
  "kernelspec": {
   "display_name": "Python 3",
   "language": "python",
   "name": "python3"
  },
  "language_info": {
   "codemirror_mode": {
    "name": "ipython",
    "version": 3
   },
   "file_extension": ".py",
   "mimetype": "text/x-python",
   "name": "python",
   "nbconvert_exporter": "python",
   "pygments_lexer": "ipython3",
   "version": "3.8.5"
  }
 },
 "nbformat": 4,
 "nbformat_minor": 4
}
