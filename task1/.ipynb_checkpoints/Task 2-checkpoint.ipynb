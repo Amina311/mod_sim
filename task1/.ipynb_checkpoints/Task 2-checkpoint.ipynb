{
 "cells": [
  {
   "cell_type": "code",
   "execution_count": 273,
   "metadata": {},
   "outputs": [],
   "source": [
    "import matplotlib.pyplot as plt\n",
    "import pandas as pd\n",
    "import random"
   ]
  },
  {
   "cell_type": "code",
   "execution_count": 270,
   "metadata": {},
   "outputs": [],
   "source": [
    "FOREST_LENGTH = 20\n",
    "FOREST_WIDTH = 20\n",
    "\n",
    "EMPTY = 0\n",
    "PREY = 1\n",
    "PREDATOR = 2\n",
    "\n",
    "CELL_TYPES = [EMPTY, PREY, PREDATOR]\n",
    "\n",
    "PROBABILITY_P1 = 0.33\n",
    "PROBABILITY_P2 = 0.33\n",
    "PROBABILITY_P3 = 0.33"
   ]
  },
  {
   "cell_type": "code",
   "execution_count": 237,
   "metadata": {},
   "outputs": [
    {
     "data": {
      "text/plain": [
       "array([[0, 1, 0, 1, 2, 2, 2, 1, 2, 2, 0, 2, 0, 0, 2, 2, 1, 0, 0, 2],\n",
       "       [1, 0, 2, 1, 1, 0, 1, 1, 0, 2, 2, 1, 1, 1, 0, 0, 0, 1, 1, 0],\n",
       "       [0, 2, 2, 2, 2, 1, 1, 1, 0, 2, 0, 1, 0, 2, 1, 1, 2, 1, 0, 1],\n",
       "       [0, 0, 2, 2, 1, 1, 0, 2, 2, 1, 1, 1, 0, 2, 1, 2, 2, 1, 1, 0],\n",
       "       [2, 2, 2, 2, 0, 0, 1, 1, 1, 2, 1, 2, 2, 1, 2, 2, 0, 1, 0, 2],\n",
       "       [0, 2, 2, 2, 2, 0, 0, 0, 2, 2, 2, 1, 0, 1, 0, 0, 0, 0, 0, 1],\n",
       "       [1, 0, 2, 0, 2, 2, 1, 2, 0, 1, 1, 2, 0, 0, 1, 1, 0, 1, 1, 0],\n",
       "       [0, 2, 2, 1, 1, 1, 2, 1, 1, 0, 2, 0, 2, 1, 0, 0, 2, 0, 0, 0],\n",
       "       [0, 2, 1, 1, 2, 1, 0, 0, 0, 2, 1, 2, 0, 2, 1, 1, 2, 2, 2, 2],\n",
       "       [0, 1, 0, 1, 0, 1, 1, 0, 0, 0, 1, 2, 2, 1, 1, 0, 2, 1, 0, 1],\n",
       "       [2, 0, 1, 1, 1, 1, 2, 1, 1, 0, 0, 0, 2, 1, 2, 0, 2, 2, 2, 1],\n",
       "       [0, 0, 1, 0, 0, 1, 1, 2, 1, 1, 1, 1, 2, 0, 0, 0, 1, 0, 0, 1],\n",
       "       [2, 0, 2, 0, 1, 2, 1, 2, 1, 0, 2, 1, 0, 2, 0, 0, 2, 1, 1, 2],\n",
       "       [0, 1, 1, 2, 1, 0, 2, 1, 2, 1, 1, 0, 1, 2, 2, 1, 1, 0, 1, 2],\n",
       "       [0, 1, 0, 1, 0, 1, 1, 0, 1, 2, 0, 1, 1, 0, 1, 2, 2, 0, 0, 2],\n",
       "       [1, 1, 1, 2, 2, 2, 2, 0, 0, 0, 2, 0, 1, 1, 2, 0, 0, 1, 1, 0],\n",
       "       [0, 1, 1, 0, 0, 1, 2, 0, 1, 0, 2, 0, 2, 1, 2, 2, 0, 1, 2, 2],\n",
       "       [1, 2, 1, 1, 0, 0, 1, 1, 0, 2, 2, 0, 0, 2, 1, 2, 2, 1, 0, 1],\n",
       "       [2, 2, 1, 2, 2, 1, 2, 1, 0, 1, 0, 0, 2, 0, 0, 2, 1, 2, 2, 0],\n",
       "       [0, 0, 2, 2, 1, 2, 1, 2, 0, 0, 1, 2, 1, 2, 1, 0, 1, 0, 0, 0]])"
      ]
     },
     "execution_count": 237,
     "metadata": {},
     "output_type": "execute_result"
    }
   ],
   "source": [
    "forest = np.random.randint(3, size=(FOREST_WIDTH, FOREST_LENGTH))\n",
    "forest"
   ]
  },
  {
   "cell_type": "code",
   "execution_count": 239,
   "metadata": {},
   "outputs": [],
   "source": [
    "def find_neighbours(arr, i_pos, j_pos):\n",
    "\n",
    "    neighbors = []\n",
    "\n",
    "    if i_pos == 0 or i_pos == len(arr) - 1 or j_pos == 0 or j_pos == len(arr[i_pos]) - 1:\n",
    "        # corners\n",
    "        new_neighbors = []\n",
    "        if i_pos != 0:\n",
    "            new_neighbors.append((arr[i_pos - 1][j_pos], (i_pos - 1,j_pos)))  # top neighbor\n",
    "        if j_pos != len(arr[i_pos]) - 1:\n",
    "            new_neighbors.append(arr[i_pos][j_pos + 1], (i_pos, j_pos + 1))  # right neighbor\n",
    "        if i_pos != len(arr) - 1:\n",
    "            new_neighbors.append(arr[i_pos + 1][j_pos], (i_pos + 1,j_pos))  # bottom neighbor\n",
    "        if j_pos != 0:\n",
    "            new_neighbors.append(arr[i_pos][j_pos - 1], (i_pos, j_pos - 1))  # left neighbor\n",
    "\n",
    "    else:\n",
    "        # add neighbors\n",
    "        new_neighbors = [\n",
    "            (arr[i_pos - 1][j_pos], (i_pos - 1,j_pos)),  # top neighbor\n",
    "            (arr[i_pos][j_pos + 1], (i_pos,j_pos+1)),  # right neighbor\n",
    "            (arr[i_pos + 1][j_pos], (i_pos + 1,j_pos)),  # bottom neighbor\n",
    "            (arr[i_pos][j_pos - 1], (i_pos,j_pos-1))   # left neighbor\n",
    "        ]\n",
    "\n",
    "    return {\n",
    "        \"value\": (arr[i_pos][j_pos], (i_pos, j_pos)),\n",
    "        \"neighbors\": new_neighbors\n",
    "    }\n"
   ]
  },
  {
   "cell_type": "code",
   "execution_count": 250,
   "metadata": {},
   "outputs": [
    {
     "data": {
      "text/plain": [
       "{'value': (0, (1, 1)),\n",
       " 'neighbors': [(1, (0, 1)), (2, (1, 2)), (2, (2, 1)), (1, (1, 0))]}"
      ]
     },
     "execution_count": 250,
     "metadata": {},
     "output_type": "execute_result"
    }
   ],
   "source": [
    "find_neighbours(forest, 1, 1)"
   ]
  },
  {
   "cell_type": "code",
   "execution_count": 254,
   "metadata": {},
   "outputs": [],
   "source": [
    "def get_random_neighbouring_cell(arr, i_pos, j_pos):\n",
    "    return random.choice(find_neighbours(arr, i_pos, j_pos)[\"neighbors\"])"
   ]
  },
  {
   "cell_type": "code",
   "execution_count": 268,
   "metadata": {},
   "outputs": [
    {
     "data": {
      "text/plain": [
       "(1, (1, 0))"
      ]
     },
     "execution_count": 268,
     "metadata": {},
     "output_type": "execute_result"
    }
   ],
   "source": [
    "get_random_neighbouring_cell(forest, 1, 1)"
   ]
  },
  {
   "cell_type": "code",
   "execution_count": 275,
   "metadata": {},
   "outputs": [],
   "source": [
    "def update_forest(forest, i_pos, j_pos):\n",
    "    updated_forest = forest.deepcopy()\n",
    "    if forest[i_pos, j_pos] == EMPTY:\n",
    "        neighbouring_cell = get_random_neighbouring_cell(forest, i_pos, j_pos)\n",
    "        if neighbouring_cell[0] == PREY:\n",
    "            # forest[i_pos, j_pos] becomes prey with probability P1]\n",
    "            pass\n",
    "    elif forest[i_pos, j_pos] == PREY:\n",
    "        neighbouring_cell = get_random_neighbouring_cell(forest, i_pos, j_pos)\n",
    "        if neighbouring_cell[0] == PREDATOR:\n",
    "            # forest[i_pos, j_pos] becomes predator with probability P2\n",
    "            pass\n",
    "    elif forest[i_pos, j_pos] == PREDATOR:\n",
    "        # forest[i_pos, j_pos] becomes predator with probability P3\n",
    "        pass\n",
    "    \n",
    "    return updated_matrix"
   ]
  }
 ],
 "metadata": {
  "kernelspec": {
   "display_name": "Python 3",
   "language": "python",
   "name": "python3"
  },
  "language_info": {
   "codemirror_mode": {
    "name": "ipython",
    "version": 3
   },
   "file_extension": ".py",
   "mimetype": "text/x-python",
   "name": "python",
   "nbconvert_exporter": "python",
   "pygments_lexer": "ipython3",
   "version": "3.8.5"
  }
 },
 "nbformat": 4,
 "nbformat_minor": 4
}
